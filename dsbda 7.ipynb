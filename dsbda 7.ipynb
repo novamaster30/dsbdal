{
 "cells": [
  {
   "cell_type": "code",
   "execution_count": 19,
   "id": "a713531a-66bf-4cf2-a606-3e4ea0cac7e0",
   "metadata": {},
   "outputs": [],
   "source": [
    "import pandas as pd\n",
    "import nltk\n",
    "import re\n",
    "from nltk.tokenize import sent_tokenize\n",
    "from nltk.tokenize import word_tokenize\n",
    "from nltk.corpus import stopwords\n",
    "from nltk.stem import PorterStemmer\n",
    "from nltk.stem import WordNetLemmatizer\n",
    "from nltk.tokenize import word_tokenize"
   ]
  },
  {
   "cell_type": "code",
   "execution_count": 20,
   "id": "a3e3a028-7765-41f3-854a-3b1d3705a939",
   "metadata": {},
   "outputs": [
    {
     "name": "stderr",
     "output_type": "stream",
     "text": [
      "[nltk_data] Downloading package punkt to\n",
      "[nltk_data]     C:\\Users\\nikhi\\AppData\\Roaming\\nltk_data...\n",
      "[nltk_data]   Package punkt is already up-to-date!\n",
      "[nltk_data] Downloading package stopwords to\n",
      "[nltk_data]     C:\\Users\\nikhi\\AppData\\Roaming\\nltk_data...\n",
      "[nltk_data]   Package stopwords is already up-to-date!\n",
      "[nltk_data] Downloading package wordnet to\n",
      "[nltk_data]     C:\\Users\\nikhi\\AppData\\Roaming\\nltk_data...\n",
      "[nltk_data]   Package wordnet is already up-to-date!\n",
      "[nltk_data] Downloading package averaged_perceptron_tagger to\n",
      "[nltk_data]     C:\\Users\\nikhi\\AppData\\Roaming\\nltk_data...\n",
      "[nltk_data]   Package averaged_perceptron_tagger is already up-to-\n",
      "[nltk_data]       date!\n"
     ]
    },
    {
     "data": {
      "text/plain": [
       "True"
      ]
     },
     "execution_count": 20,
     "metadata": {},
     "output_type": "execute_result"
    }
   ],
   "source": [
    "nltk.download('punkt')\n",
    "nltk.download('stopwords')\n",
    "nltk.download('wordnet')\n",
    "nltk.download('averaged_perceptron_tagger')"
   ]
  },
  {
   "cell_type": "code",
   "execution_count": 13,
   "id": "7cf4db40-a5a0-4127-ba54-447040c89fab",
   "metadata": {},
   "outputs": [
    {
     "name": "stdout",
     "output_type": "stream",
     "text": [
      "['Tokenization is the first step in text analytics.']\n",
      "['Tokenization', 'is', 'the', 'first', 'step', 'in', 'text', 'analytics', '.']\n"
     ]
    }
   ],
   "source": [
    "#Tokenization\n",
    "text=\"Tokenization is the first step in text analytics.\"\n",
    "tokenized_text=sent_tokenize(text)  # Sentence tokenization\n",
    "print(tokenized_text)\n",
    "tokenized_word=word_tokenize(text)  # Word tokenization\n",
    "print(tokenized_word)"
   ]
  },
  {
   "cell_type": "code",
   "execution_count": 14,
   "id": "d6a5acef-57e1-4910-a35a-727be88a0964",
   "metadata": {},
   "outputs": [
    {
     "name": "stdout",
     "output_type": "stream",
     "text": [
      "{'it', 'his', 'from', 'off', 'not', 'their', \"doesn't\", 'again', \"needn't\", 'ma', 'its', 'above', 've', 'if', \"don't\", 'have', 'did', 'each', 'theirs', 't', 'haven', 'or', 'has', 'further', 'until', 'myself', 'now', 'we', 'weren', 'some', 'i', 'herself', 'they', 'can', 'there', 'is', 'very', \"you'll\", \"weren't\", 'won', 'been', \"you've\", 'where', 'yours', 'through', 'll', 'those', 'had', 'about', 'too', 'such', 'doesn', 'these', \"haven't\", 'up', 'most', 'as', \"aren't\", 's', \"shan't\", 'aren', 'other', 'whom', 'are', 'when', 'doing', \"hasn't\", 'any', 'don', 'more', 'were', \"hadn't\", 'which', \"wouldn't\", 'this', 'hasn', 'out', 'because', \"wasn't\", 'does', 'isn', 'you', 'having', 'and', \"couldn't\", 'mightn', 'itself', \"she's\", 'with', 're', 'm', 'being', 'them', 'do', 'a', 'on', 'just', 'was', 'between', \"you'd\", 'he', 'in', 'so', 'd', 'her', \"it's\", 'who', 'at', 'o', 'didn', 'shan', 'what', \"shouldn't\", 'same', 'should', 'over', \"you're\", 'down', 'own', 'will', \"won't\", 'during', 'while', 'y', \"should've\", 'our', \"mustn't\", 'here', 'she', 'by', 'all', 'himself', 'him', 'an', \"that'll\", 'be', \"isn't\", 'shouldn', 'that', 'yourselves', 'than', 'ain', 'then', \"didn't\", 'my', 'to', 'couldn', 'wouldn', 'below', 'why', 'hers', 'once', 'wasn', 'nor', 'your', 'me', 'but', 'after', 'am', 'yourself', \"mightn't\", 'for', 'needn', 'before', 'no', 'mustn', 'only', 'themselves', 'the', 'against', 'ours', 'into', 'few', 'ourselves', 'under', 'both', 'of', 'how', 'hadn'}\n",
      "Tokenized Sentence: ['how', 'to', 'remove', 'stop', 'words', 'with', 'nltk', 'library', 'in', 'python']\n",
      "Filtered Sentence: ['remove', 'stop', 'words', 'nltk', 'library', 'python']\n"
     ]
    }
   ],
   "source": [
    "#Stop words removal:\n",
    "stop_words=set(stopwords.words(\"english\"))  # Fetch English stop words\n",
    "print(stop_words)\n",
    "text=\"How to remove stop words with NLTK library in Python?\"\n",
    "text=re.sub('[^a-zA-Z]', ' ', text)  # Clean up text to remove non-alphabetic characters\n",
    "tokens=word_tokenize(text.lower())  # Tokenize the cleaned text\n",
    "filtered_text = [w for w in tokens if w not in stop_words]  # Remove stop words\n",
    "print(\"Tokenized Sentence:\", tokens)\n",
    "print(\"Filtered Sentence:\", filtered_text)"
   ]
  },
  {
   "cell_type": "code",
   "execution_count": 15,
   "id": "2cd68561-d9c7-4728-bd65-f34c3576dc49",
   "metadata": {},
   "outputs": [
    {
     "name": "stdout",
     "output_type": "stream",
     "text": [
      "wait\n",
      "Lemma for studies is study\n",
      "Lemma for studying is studying\n",
      "Lemma for cries is cry\n",
      "Lemma for cry is cry\n"
     ]
    }
   ],
   "source": [
    "#Word Lemmatization and Stemming:\n",
    "e_words=[\"wait\",\"waiting\",\"waited\",\"waits\"]\n",
    "ps=PorterStemmer()\n",
    "for w in e_words:\n",
    "    rootWord=ps.stem(w)\n",
    "print(rootWord)\n",
    "\n",
    "wordnet_lemmatizer=WordNetLemmatizer()\n",
    "text=\"studies studying cries cry\"\n",
    "tokenization=nltk.word_tokenize(text)\n",
    "for w in tokenization:\n",
    "    print(\"Lemma for {} is {}\".format(w, wordnet_lemmatizer.lemmatize(w)))"
   ]
  },
  {
   "cell_type": "code",
   "execution_count": 16,
   "id": "0c1274ec-2a86-49c1-b939-64bd8f5ef344",
   "metadata": {},
   "outputs": [
    {
     "name": "stdout",
     "output_type": "stream",
     "text": [
      "[('The', 'DT')]\n",
      "[('pink', 'NN')]\n",
      "[('sweater', 'NN')]\n",
      "[('fit', 'NN')]\n",
      "[('her', 'PRP$')]\n",
      "[('perfectly', 'RB')]\n"
     ]
    }
   ],
   "source": [
    "#Part-of-Speech Tagging:\n",
    "data=\"The pink sweater fit her perfectly\"\n",
    "words=word_tokenize(data)\n",
    "for word in words:\n",
    "    print(nltk.pos_tag([word]))"
   ]
  },
  {
   "cell_type": "code",
   "execution_count": 21,
   "id": "78229f69-3b88-4543-995a-50e71fe0b4da",
   "metadata": {},
   "outputs": [],
   "source": [
    "from sklearn.feature_extraction.text import TfidfVectorizer\n",
    "import math"
   ]
  },
  {
   "cell_type": "code",
   "execution_count": 24,
   "id": "71b31a8e-43af-4ce0-bc67-51a6eda9b247",
   "metadata": {},
   "outputs": [],
   "source": [
    "#TF-IDF Calculation for Text Data:\n",
    "documentA='Jupiter is the largest Planet'\n",
    "documentB='Mars is the fourth planet from the Sun'\n",
    "bagOfWordsA=documentA.split(' ')\n",
    "bagOfWordsB=documentB.split(' ')\n",
    "uniqueWords=set(bagOfWordsA).union(set(bagOfWordsB))\n",
    "\n",
    "# Calculate frequency of words in each document\n",
    "numOfWordsA=dict.fromkeys(uniqueWords, 0)\n",
    "for word in bagOfWordsA:\n",
    "    numOfWordsA[word] += 1\n",
    "numOfWordsB=dict.fromkeys(uniqueWords, 0)\n",
    "for word in bagOfWordsB:\n",
    "    numOfWordsB[word] += 1\n",
    "\n",
    "# Compute Term Frequency (TF)\n",
    "def computeTF(wordDict, bagOfWords):\n",
    "    tfDict = {}\n",
    "    bagOfWordsCount = len(bagOfWords)\n",
    "    for word, count in wordDict.items():\n",
    "        tfDict[word] = count / float(bagOfWordsCount)\n",
    "    return tfDict\n",
    "tfA = computeTF(numOfWordsA, bagOfWordsA)\n",
    "tfB = computeTF(numOfWordsB, bagOfWordsB)\n",
    "\n",
    "# Compute Inverse Document Frequency (IDF)\n",
    "def computeIDF(documents):\n",
    "    N = len(documents)\n",
    "    idfDict = dict.fromkeys(documents[0].keys(), 0)\n",
    "    for document in documents:\n",
    "        for word, val in document.items():\n",
    "            if val > 0:\n",
    "                idfDict[word] += 1\n",
    "    for word, val in idfDict.items():\n",
    "        idfDict[word] = math.log(N / float(val))\n",
    "    return idfDict\n",
    "idfs = computeIDF([numOfWordsA, numOfWordsB])\n",
    "\n",
    "# Compute TF-IDF\n",
    "def computeTFIDF(tfBagOfWords, idfs):\n",
    "    tfidf = {}\n",
    "    for word, val in tfBagOfWords.items():\n",
    "        tfidf[word] = val * idfs[word]\n",
    "    return tfidf\n",
    "tfidfA = computeTFIDF(tfA, idfs)\n",
    "tfidfB = computeTFIDF(tfB, idfs)\n",
    "df = pd.DataFrame([tfidfA, tfidfB])"
   ]
  },
  {
   "cell_type": "code",
   "execution_count": 25,
   "id": "a96e8d9a-ad7d-479f-bf63-3288c5186828",
   "metadata": {},
   "outputs": [
    {
     "data": {
      "text/html": [
       "<div>\n",
       "<style scoped>\n",
       "    .dataframe tbody tr th:only-of-type {\n",
       "        vertical-align: middle;\n",
       "    }\n",
       "\n",
       "    .dataframe tbody tr th {\n",
       "        vertical-align: top;\n",
       "    }\n",
       "\n",
       "    .dataframe thead th {\n",
       "        text-align: right;\n",
       "    }\n",
       "</style>\n",
       "<table border=\"1\" class=\"dataframe\">\n",
       "  <thead>\n",
       "    <tr style=\"text-align: right;\">\n",
       "      <th></th>\n",
       "      <th>Jupiter</th>\n",
       "      <th>from</th>\n",
       "      <th>Sun</th>\n",
       "      <th>Planet</th>\n",
       "      <th>fourth</th>\n",
       "      <th>largest</th>\n",
       "      <th>planet</th>\n",
       "      <th>Mars</th>\n",
       "      <th>the</th>\n",
       "      <th>is</th>\n",
       "    </tr>\n",
       "  </thead>\n",
       "  <tbody>\n",
       "    <tr>\n",
       "      <th>0</th>\n",
       "      <td>0.138629</td>\n",
       "      <td>0.000000</td>\n",
       "      <td>0.000000</td>\n",
       "      <td>0.138629</td>\n",
       "      <td>0.000000</td>\n",
       "      <td>0.138629</td>\n",
       "      <td>0.000000</td>\n",
       "      <td>0.000000</td>\n",
       "      <td>0.0</td>\n",
       "      <td>0.0</td>\n",
       "    </tr>\n",
       "    <tr>\n",
       "      <th>1</th>\n",
       "      <td>0.000000</td>\n",
       "      <td>0.086643</td>\n",
       "      <td>0.086643</td>\n",
       "      <td>0.000000</td>\n",
       "      <td>0.086643</td>\n",
       "      <td>0.000000</td>\n",
       "      <td>0.086643</td>\n",
       "      <td>0.086643</td>\n",
       "      <td>0.0</td>\n",
       "      <td>0.0</td>\n",
       "    </tr>\n",
       "  </tbody>\n",
       "</table>\n",
       "</div>"
      ],
      "text/plain": [
       "    Jupiter      from       Sun    Planet    fourth   largest    planet  \\\n",
       "0  0.138629  0.000000  0.000000  0.138629  0.000000  0.138629  0.000000   \n",
       "1  0.000000  0.086643  0.086643  0.000000  0.086643  0.000000  0.086643   \n",
       "\n",
       "       Mars  the   is  \n",
       "0  0.000000  0.0  0.0  \n",
       "1  0.086643  0.0  0.0  "
      ]
     },
     "execution_count": 25,
     "metadata": {},
     "output_type": "execute_result"
    }
   ],
   "source": [
    "df"
   ]
  }
 ],
 "metadata": {
  "kernelspec": {
   "display_name": "Python 3 (ipykernel)",
   "language": "python",
   "name": "python3"
  },
  "language_info": {
   "codemirror_mode": {
    "name": "ipython",
    "version": 3
   },
   "file_extension": ".py",
   "mimetype": "text/x-python",
   "name": "python",
   "nbconvert_exporter": "python",
   "pygments_lexer": "ipython3",
   "version": "3.11.8"
  }
 },
 "nbformat": 4,
 "nbformat_minor": 5
}
